{
 "cells": [
  {
   "cell_type": "code",
   "execution_count": 1,
   "metadata": {},
   "outputs": [
    {
     "name": "stdout",
     "output_type": "stream",
     "text": [
      "3.817491056430774\n",
      "0.49636743029496766\n",
      "0.3702085959660441\n",
      "0.37020859596602856\n"
     ]
    },
    {
     "name": "stderr",
     "output_type": "stream",
     "text": [
      "/home/saurav/.local/lib/python3.6/site-packages/ipykernel_launcher.py:7: RuntimeWarning: overflow encountered in power\n",
      "  import sys\n"
     ]
    },
    {
     "name": "stdout",
     "output_type": "stream",
     "text": [
      "0.37020859596602856\n"
     ]
    },
    {
     "data": {
      "text/plain": [
       "[<matplotlib.lines.Line2D at 0x7ff79f0ece80>]"
      ]
     },
     "execution_count": 1,
     "metadata": {},
     "output_type": "execute_result"
    }
   ],
   "source": [
    "import numpy as np\n",
    "import matplotlib.pyplot as plt\n",
    "integ=np.zeros(5,float)\n",
    "ct=0\n",
    "for a in np.array([4000,40000,400000,4000000,40000000]):\n",
    "    x=np.arange(a)+0.01\n",
    "    integ[ct]=np.sum(((x/10000)**2)*(1/10000)/(2.71828**(x/10000)-1))  / np.sum(((x/10000)**3)*(1/10000)/(2.71828**(x/10000)-1))\n",
    "    print(integ[ct])\n",
    "    ct+=1\n",
    "plt.plot(integ)"
   ]
  }
 ],
 "metadata": {
  "kernelspec": {
   "display_name": "Python 3",
   "language": "python",
   "name": "python3"
  },
  "language_info": {
   "codemirror_mode": {
    "name": "ipython",
    "version": 3
   },
   "file_extension": ".py",
   "mimetype": "text/x-python",
   "name": "python",
   "nbconvert_exporter": "python",
   "pygments_lexer": "ipython3",
   "version": "3.6.7"
  }
 },
 "nbformat": 4,
 "nbformat_minor": 2
}
